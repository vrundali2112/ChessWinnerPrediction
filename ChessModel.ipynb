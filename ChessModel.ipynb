{
 "cells": [
  {
   "cell_type": "code",
   "execution_count": 26,
   "metadata": {
    "id": "YDPwPaz3jp3T"
   },
   "outputs": [],
   "source": [
    "import numpy as np\n",
    "import pandas as pd\n",
    "import tensorflow as tf\n",
    "import pickle\n",
    "import joblib\n",
    "from tensorflow.keras.preprocessing.text import Tokenizer\n",
    "from tensorflow.keras.preprocessing.sequence import pad_sequences\n",
    "from sklearn.model_selection import train_test_split"
   ]
  },
  {
   "cell_type": "code",
   "execution_count": 2,
   "metadata": {
    "id": "TTgJFlzpjzXW"
   },
   "outputs": [],
   "source": [
    "data = pd.read_csv('games.csv')"
   ]
  },
  {
   "cell_type": "code",
   "execution_count": 3,
   "metadata": {
    "id": "asR7BpnZkBp4"
   },
   "outputs": [],
   "source": [
    "data = data[(data[\"victory_status\"] != \"draw\")]\n",
    "data = data.drop([\"id\",\"turns\",\"rated\",\"opening_name\",\"opening_ply\",\"increment_code\",\"created_at\",\"last_move_at\",\"black_rating\",\"black_id\",\"white_rating\",\"white_id\",\"victory_status\",\"opening_eco\"], axis=1)"
   ]
  },
  {
   "cell_type": "code",
   "execution_count": 4,
   "metadata": {
    "id": "uFdf8bBIkfKS"
   },
   "outputs": [],
   "source": [
    "#GETTING ALL UNIQUE MOVES\n",
    "unique_moves = set()\n",
    "len_unique_moves = len(unique_moves)\n",
    "\n",
    "for move_list in data[\"moves\"]:\n",
    "    for move in move_list.split(' '):\n",
    "        unique_moves.add(move)\n",
    "\n",
    "max_vocab = len(unique_moves)"
   ]
  },
  {
   "cell_type": "code",
   "execution_count": 5,
   "metadata": {
    "id": "IaAlrUrClR8Q"
   },
   "outputs": [],
   "source": [
    "moves = np.array(data['moves'])\n",
    "labels = np.array(data[\"winner\"].map(lambda x: 1 if x==\"white\" else 0))"
   ]
  },
  {
   "cell_type": "code",
   "execution_count": 6,
   "metadata": {
    "colab": {
     "base_uri": "https://localhost:8080/"
    },
    "id": "3-08TJfWlg12",
    "outputId": "b43db8b0-d324-4bae-cdb1-94b3ec0fe6e5"
   },
   "outputs": [
    {
     "name": "stdout",
     "output_type": "stream",
     "text": [
      "349\n"
     ]
    }
   ],
   "source": [
    "#GETTING MAXIMIUM LENGTH OF ITEM IN UNIQUE_MOVES\n",
    "max_len = 0\n",
    "for move in moves:\n",
    "    total = 0\n",
    "    for item in move.split(' '):\n",
    "        total +=1\n",
    "    if total > max_len:\n",
    "        max_len = total\n",
    "\n",
    "print(max_len)"
   ]
  },
  {
   "cell_type": "code",
   "execution_count": 7,
   "metadata": {
    "id": "F218JoOdmMEc"
   },
   "outputs": [],
   "source": [
    "#TOKENIZATION WITH TENSORFLOW\n",
    "tokenizer = Tokenizer(num_words=max_vocab)\n",
    "tokenizer.fit_on_texts(moves)\n",
    "sequences = tokenizer.texts_to_sequences(moves)\n",
    "word_index = tokenizer.word_index\n",
    "model_inputs = pad_sequences(sequences, maxlen=max_len)"
   ]
  },
  {
   "cell_type": "code",
   "execution_count": 8,
   "metadata": {
    "colab": {
     "base_uri": "https://localhost:8080/"
    },
    "id": "0BxPNOG9c-xp",
    "outputId": "408b190d-dee9-47b3-bf38-f56ccab440e1"
   },
   "outputs": [
    {
     "data": {
      "text/plain": [
       "(19152, 349)"
      ]
     },
     "execution_count": 8,
     "metadata": {},
     "output_type": "execute_result"
    }
   ],
   "source": [
    "model_inputs.shape"
   ]
  },
  {
   "cell_type": "code",
   "execution_count": 9,
   "metadata": {
    "id": "1RPiKpKqmy08"
   },
   "outputs": [],
   "source": [
    "#TRAINING AND TESTING DATA\n",
    "train_inputs, test_inputs, train_labels, test_labels = train_test_split(model_inputs, labels, train_size=0.7, random_state=25)"
   ]
  },
  {
   "cell_type": "code",
   "execution_count": 10,
   "metadata": {
    "colab": {
     "base_uri": "https://localhost:8080/"
    },
    "id": "qFFZ97V7jRw3",
    "outputId": "51fd516c-fa9a-4fbb-bf33-32fc285a4db7"
   },
   "outputs": [
    {
     "data": {
      "text/plain": [
       "(5746, 349)"
      ]
     },
     "execution_count": 10,
     "metadata": {},
     "output_type": "execute_result"
    }
   ],
   "source": [
    "test_inputs.shape"
   ]
  },
  {
   "cell_type": "code",
   "execution_count": 11,
   "metadata": {
    "id": "UzCFOY19ncNA"
   },
   "outputs": [],
   "source": [
    "#MODEL \n",
    "\n",
    "embedding_dim = 300\n",
    "inputs = tf.keras.Input(shape=max_len)\n",
    "\n",
    "embedding = tf.keras.layers.Embedding(input_dim=max_vocab,output_dim=embedding_dim,input_length=max_len)(inputs)\n",
    "gru = tf.keras.layers.GRU(units=embedding_dim)(embedding)\n",
    "outputs = tf.keras.layers.Dense(1, activation='sigmoid')(gru) \n",
    "model = tf.keras.Model(inputs=inputs, outputs=outputs)\n"
   ]
  },
  {
   "cell_type": "code",
   "execution_count": 12,
   "metadata": {
    "id": "9_O6yD7q0Ei7"
   },
   "outputs": [],
   "source": [
    "model.compile(\n",
    "    optimizer='adam',\n",
    "    loss='binary_crossentropy',\n",
    "    metrics=['accuracy',tf.keras.metrics.AUC(name='auc')]\n",
    ")"
   ]
  },
  {
   "cell_type": "code",
   "execution_count": 13,
   "metadata": {
    "colab": {
     "base_uri": "https://localhost:8080/"
    },
    "id": "RJOJUTcs0JuF",
    "outputId": "db8b31d9-9a81-4175-8725-4722ef9f13f7"
   },
   "outputs": [
    {
     "name": "stdout",
     "output_type": "stream",
     "text": [
      "Epoch 1/3\n",
      "431/431 [==============================] - 565s 1s/step - loss: 0.5388 - accuracy: 0.7289 - auc: 0.8055 - val_loss: 0.4568 - val_accuracy: 0.7882 - val_auc: 0.8679 - lr: 0.0010\n",
      "Epoch 2/3\n",
      "431/431 [==============================] - 543s 1s/step - loss: 0.3736 - accuracy: 0.8375 - auc: 0.9134 - val_loss: 0.5104 - val_accuracy: 0.7539 - val_auc: 0.8403 - lr: 0.0010\n",
      "Epoch 3/3\n",
      "431/431 [==============================] - 520s 1s/step - loss: 0.2968 - accuracy: 0.8745 - auc: 0.9460 - val_loss: 0.3261 - val_accuracy: 0.8665 - val_auc: 0.9335 - lr: 0.0010\n"
     ]
    },
    {
     "data": {
      "text/plain": [
       "<tensorflow.python.keras.callbacks.History at 0x2d66e546550>"
      ]
     },
     "execution_count": 13,
     "metadata": {},
     "output_type": "execute_result"
    }
   ],
   "source": [
    "batch_size = 32\n",
    "epochs = 3\n",
    "\n",
    "model.fit(\n",
    "    train_inputs,\n",
    "    train_labels,\n",
    "    validation_split=0.1,\n",
    "    batch_size=batch_size,\n",
    "    epochs=epochs,\n",
    "    callbacks=[tf.keras.callbacks.ReduceLROnPlateau()],\n",
    "    verbose=1\n",
    ")"
   ]
  },
  {
   "cell_type": "code",
   "execution_count": 19,
   "metadata": {
    "colab": {
     "base_uri": "https://localhost:8080/"
    },
    "id": "m6E813xKpGhE",
    "outputId": "d0f55e03-1662-4242-9c3c-16143574b9b6",
    "scrolled": true
   },
   "outputs": [
    {
     "name": "stdout",
     "output_type": "stream",
     "text": [
      "180/180 [==============================] - 61s 341ms/step - loss: 0.3138 - accuracy: 0.8644 - auc: 0.9403\n"
     ]
    },
    {
     "data": {
      "text/plain": [
       "[0.3137526512145996, 0.8644274473190308, 0.940314531326294]"
      ]
     },
     "execution_count": 19,
     "metadata": {},
     "output_type": "execute_result"
    }
   ],
   "source": [
    "model.evaluate(test_inputs, test_labels, verbose = 1)"
   ]
  },
  {
   "cell_type": "code",
   "execution_count": 20,
   "metadata": {
    "id": "diYgye3cCC-v"
   },
   "outputs": [],
   "source": [
    "#CONVERT INPUT TESTING DATA INTO PADDED LIST\n",
    "\n",
    "def prediction(move):\n",
    "  move_list = move.split()\n",
    "\n",
    "  for i in move_list:\n",
    "    b = i.lower()\n",
    "    a = move_list.index(i)\n",
    "    move_list[a] = word_index[b]\n",
    "\n",
    "  for i in range(len(move_list)):\n",
    "    while len(move_list)!= max_len:\n",
    "      move_list.insert(i,0) \n",
    "  \n",
    "  return(np.array([move_list]))\n"
   ]
  },
  {
   "cell_type": "code",
   "execution_count": 21,
   "metadata": {
    "id": "nOifHfv0W5Rs"
   },
   "outputs": [],
   "source": [
    "testing_input = prediction(\"b4 e5 a4 d5 Nc3 Bxb4 Ba3 d4 Ne4 Bxa3 Rxa3 Qe7 a5 Qxa3 e3 Qxa5 c3 dxe3 fxe3 Qd5 Nf2 Nf6 e4 Qd6 d4 exd4 Qxd4 Qxd4 cxd4 Bc4 Re8 Ngh3 Nxe4 Nxe4 Rxe4 Kf2 Bxh3 gxh3 Rxd4 Kf3 Rxc4 Rb1 Nc6 h4 Nd4 Ke3 Re8\")\n",
    "#model.predict_classes(func)"
   ]
  },
  {
   "cell_type": "code",
   "execution_count": 41,
   "metadata": {
    "colab": {
     "base_uri": "https://localhost:8080/"
    },
    "id": "ijC_l__-9SKm",
    "outputId": "779fc0cc-9e07-47f4-e426-90fcfcce845c",
    "scrolled": true
   },
   "outputs": [
    {
     "name": "stdout",
     "output_type": "stream",
     "text": [
      "White is going to win.\n"
     ]
    }
   ],
   "source": [
    "test_pred = model.predict(testing_input)\n",
    "if test_pred[0]>0.5:\n",
    "    print(\"White is going to win.\")\n",
    "else:\n",
    "    print(\"Black is going to win.\")"
   ]
  },
  {
   "cell_type": "code",
   "execution_count": 33,
   "metadata": {},
   "outputs": [
    {
     "name": "stdout",
     "output_type": "stream",
     "text": [
      "WARNING:tensorflow:From c:\\users\\admin\\appdata\\local\\programs\\python\\python38\\lib\\site-packages\\tensorflow\\python\\ops\\resource_variable_ops.py:1813: calling BaseResourceVariable.__init__ (from tensorflow.python.ops.resource_variable_ops) with constraint is deprecated and will be removed in a future version.\n",
      "Instructions for updating:\n",
      "If using Keras pass *_constraint arguments to layers.\n",
      "INFO:tensorflow:Assets written to: my_model\\assets\n"
     ]
    }
   ],
   "source": [
    "model.save(\"my_model\")\n",
    "model.save_weights(\"weights.h5\")"
   ]
  }
 ],
 "metadata": {
  "colab": {
   "collapsed_sections": [],
   "name": "ChessTensor.ipynb",
   "provenance": []
  },
  "kernelspec": {
   "display_name": "Python 3",
   "language": "python",
   "name": "python3"
  },
  "language_info": {
   "codemirror_mode": {
    "name": "ipython",
    "version": 3
   },
   "file_extension": ".py",
   "mimetype": "text/x-python",
   "name": "python",
   "nbconvert_exporter": "python",
   "pygments_lexer": "ipython3",
   "version": "3.8.3"
  }
 },
 "nbformat": 4,
 "nbformat_minor": 1
}
